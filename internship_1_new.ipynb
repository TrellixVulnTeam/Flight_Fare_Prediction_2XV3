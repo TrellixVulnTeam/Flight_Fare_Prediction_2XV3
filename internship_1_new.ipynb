{
 "cells": [
  {
   "cell_type": "code",
   "execution_count": 1,
   "metadata": {
    "id": "SLD3C3ntrEGI"
   },
   "outputs": [],
   "source": [
    "import pandas as pd\n",
    "import numpy as np\n",
    "import matplotlib.pyplot as plt\n",
    "%matplotlib inline"
   ]
  },
  {
   "cell_type": "code",
   "execution_count": 2,
   "metadata": {},
   "outputs": [],
   "source": [
    "import warnings\n",
    "warnings.filterwarnings('ignore')"
   ]
  },
  {
   "cell_type": "code",
   "execution_count": 3,
   "metadata": {
    "colab": {
     "base_uri": "https://localhost:8080/",
     "height": 75,
     "resources": {
      "http://localhost:8080/nbextensions/google.colab/files.js": {
       "data": "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",
       "headers": [
        [
         "content-type",
         "application/javascript"
        ]
       ],
       "ok": true,
       "status": 200,
       "status_text": ""
      }
     }
    },
    "id": "oa43-WW_vqml",
    "outputId": "7e88e4e9-f401-438f-eebf-ccf150e05bbf"
   },
   "outputs": [],
   "source": [
    "# from google.colab import files\n",
    "# upload = files.upload()"
   ]
  },
  {
   "cell_type": "code",
   "execution_count": 4,
   "metadata": {
    "id": "8K4__d7q6OJ2"
   },
   "outputs": [],
   "source": [
    "data_test = pd.read_csv(\"train.csv\")\n",
    "df = pd.read_csv(\"train.csv\")"
   ]
  },
  {
   "cell_type": "code",
   "execution_count": 5,
   "metadata": {
    "id": "BzN_YBajxLcA"
   },
   "outputs": [],
   "source": [
    "data = pd.read_csv(\"train.csv\")"
   ]
  },
  {
   "cell_type": "code",
   "execution_count": 6,
   "metadata": {
    "id": "ynLtt1gdDMSW"
   },
   "outputs": [],
   "source": [
    "#test_data = pd.read_csv(\"test.csv\")"
   ]
  },
  {
   "cell_type": "code",
   "execution_count": 7,
   "metadata": {
    "colab": {
     "base_uri": "https://localhost:8080/"
    },
    "id": "-Lehot3FxLlY",
    "outputId": "20cbfe82-6986-4986-db94-295ab6cd1f92"
   },
   "outputs": [
    {
     "data": {
      "text/plain": [
       "Airline                  IndiGo\n",
       "Date_of_Journey      24/03/2019\n",
       "Source                 Banglore\n",
       "Destination           New Delhi\n",
       "Route                 BLR → DEL\n",
       "Dep_Time                  22:20\n",
       "Arrival_Time       01:10 22 Mar\n",
       "Duration                 2h 50m\n",
       "Total_Stops            non-stop\n",
       "Additional_Info         No info\n",
       "Price                      3897\n",
       "Name: 0, dtype: object"
      ]
     },
     "execution_count": 7,
     "metadata": {},
     "output_type": "execute_result"
    }
   ],
   "source": [
    "data.iloc[0]"
   ]
  },
  {
   "cell_type": "markdown",
   "metadata": {
    "id": "n9-k86Ea8_NU"
   },
   "source": [
    "1. EDA"
   ]
  },
  {
   "cell_type": "code",
   "execution_count": 8,
   "metadata": {
    "colab": {
     "base_uri": "https://localhost:8080/"
    },
    "id": "Cz6n6pQU6IVo",
    "outputId": "47ecf4a4-d134-4f74-f249-4e3e19ccc24f"
   },
   "outputs": [
    {
     "data": {
      "text/plain": [
       "(10683, 11)"
      ]
     },
     "execution_count": 8,
     "metadata": {},
     "output_type": "execute_result"
    }
   ],
   "source": [
    "data.shape"
   ]
  },
  {
   "cell_type": "code",
   "execution_count": 9,
   "metadata": {},
   "outputs": [
    {
     "data": {
      "text/plain": [
       "0       2019-03-24\n",
       "1       2019-01-05\n",
       "2       2019-09-06\n",
       "3       2019-12-05\n",
       "4       2019-01-03\n",
       "           ...    \n",
       "10678   2019-09-04\n",
       "10679   2019-04-27\n",
       "10680   2019-04-27\n",
       "10681   2019-01-03\n",
       "10682   2019-09-05\n",
       "Name: Date_of_Journey, Length: 10683, dtype: datetime64[ns]"
      ]
     },
     "execution_count": 9,
     "metadata": {},
     "output_type": "execute_result"
    }
   ],
   "source": [
    "# can we convert category to datetime64[ns]\n",
    "df[\"Date_of_Journey\"].astype('datetime64[ns]')"
   ]
  },
  {
   "cell_type": "code",
   "execution_count": 10,
   "metadata": {
    "colab": {
     "base_uri": "https://localhost:8080/"
    },
    "id": "_vNBdLMtxuJN",
    "outputId": "511aad60-dbd7-43fa-a87e-f335e508243b"
   },
   "outputs": [
    {
     "name": "stdout",
     "output_type": "stream",
     "text": [
      "<class 'pandas.core.frame.DataFrame'>\n",
      "RangeIndex: 10683 entries, 0 to 10682\n",
      "Data columns (total 11 columns):\n",
      " #   Column           Non-Null Count  Dtype \n",
      "---  ------           --------------  ----- \n",
      " 0   Airline          10683 non-null  object\n",
      " 1   Date_of_Journey  10683 non-null  object\n",
      " 2   Source           10683 non-null  object\n",
      " 3   Destination      10683 non-null  object\n",
      " 4   Route            10682 non-null  object\n",
      " 5   Dep_Time         10683 non-null  object\n",
      " 6   Arrival_Time     10683 non-null  object\n",
      " 7   Duration         10683 non-null  object\n",
      " 8   Total_Stops      10682 non-null  object\n",
      " 9   Additional_Info  10683 non-null  object\n",
      " 10  Price            10683 non-null  int64 \n",
      "dtypes: int64(1), object(10)\n",
      "memory usage: 918.2+ KB\n"
     ]
    }
   ],
   "source": [
    "data.info()"
   ]
  },
  {
   "cell_type": "code",
   "execution_count": 11,
   "metadata": {
    "colab": {
     "base_uri": "https://localhost:8080/"
    },
    "id": "p-LBHBmz59xh",
    "outputId": "234d133e-05db-4277-e209-87b51e4c4412"
   },
   "outputs": [
    {
     "data": {
      "text/plain": [
       "Airline            0.000000\n",
       "Date_of_Journey    0.000000\n",
       "Source             0.000000\n",
       "Destination        0.000000\n",
       "Route              0.000094\n",
       "Dep_Time           0.000000\n",
       "Arrival_Time       0.000000\n",
       "Duration           0.000000\n",
       "Total_Stops        0.000094\n",
       "Additional_Info    0.000000\n",
       "Price              0.000000\n",
       "dtype: float64"
      ]
     },
     "execution_count": 11,
     "metadata": {},
     "output_type": "execute_result"
    }
   ],
   "source": [
    "# Missing Values\n",
    "data.isnull().mean()"
   ]
  },
  {
   "cell_type": "code",
   "execution_count": 12,
   "metadata": {
    "id": "69CahBEW591G"
   },
   "outputs": [],
   "source": [
    "# Missing Values => \"Route\" & \"Total_stops\""
   ]
  },
  {
   "cell_type": "code",
   "execution_count": 13,
   "metadata": {
    "id": "jyHLscn4-mrL"
   },
   "outputs": [],
   "source": [
    "# Check Duplicates"
   ]
  },
  {
   "cell_type": "code",
   "execution_count": 14,
   "metadata": {
    "colab": {
     "base_uri": "https://localhost:8080/",
     "height": 600
    },
    "id": "L3LtMbf7-pjo",
    "outputId": "4ab08e87-93f8-4d5c-cfcc-f8bfa1ddf68d"
   },
   "outputs": [
    {
     "data": {
      "text/html": [
       "<div>\n",
       "<style scoped>\n",
       "    .dataframe tbody tr th:only-of-type {\n",
       "        vertical-align: middle;\n",
       "    }\n",
       "\n",
       "    .dataframe tbody tr th {\n",
       "        vertical-align: top;\n",
       "    }\n",
       "\n",
       "    .dataframe thead th {\n",
       "        text-align: right;\n",
       "    }\n",
       "</style>\n",
       "<table border=\"1\" class=\"dataframe\">\n",
       "  <thead>\n",
       "    <tr style=\"text-align: right;\">\n",
       "      <th></th>\n",
       "      <th>Airline</th>\n",
       "      <th>Date_of_Journey</th>\n",
       "      <th>Source</th>\n",
       "      <th>Destination</th>\n",
       "      <th>Route</th>\n",
       "      <th>Dep_Time</th>\n",
       "      <th>Arrival_Time</th>\n",
       "      <th>Duration</th>\n",
       "      <th>Total_Stops</th>\n",
       "      <th>Additional_Info</th>\n",
       "      <th>Price</th>\n",
       "    </tr>\n",
       "  </thead>\n",
       "  <tbody>\n",
       "    <tr>\n",
       "      <th>683</th>\n",
       "      <td>Jet Airways</td>\n",
       "      <td>1/06/2019</td>\n",
       "      <td>Delhi</td>\n",
       "      <td>Cochin</td>\n",
       "      <td>DEL → NAG → BOM → COK</td>\n",
       "      <td>14:35</td>\n",
       "      <td>04:25 02 Jun</td>\n",
       "      <td>13h 50m</td>\n",
       "      <td>2 stops</td>\n",
       "      <td>No info</td>\n",
       "      <td>13376</td>\n",
       "    </tr>\n",
       "    <tr>\n",
       "      <th>1061</th>\n",
       "      <td>Air India</td>\n",
       "      <td>21/05/2019</td>\n",
       "      <td>Delhi</td>\n",
       "      <td>Cochin</td>\n",
       "      <td>DEL → GOI → BOM → COK</td>\n",
       "      <td>22:00</td>\n",
       "      <td>19:15 22 May</td>\n",
       "      <td>21h 15m</td>\n",
       "      <td>2 stops</td>\n",
       "      <td>No info</td>\n",
       "      <td>10231</td>\n",
       "    </tr>\n",
       "    <tr>\n",
       "      <th>1348</th>\n",
       "      <td>Air India</td>\n",
       "      <td>18/05/2019</td>\n",
       "      <td>Delhi</td>\n",
       "      <td>Cochin</td>\n",
       "      <td>DEL → HYD → BOM → COK</td>\n",
       "      <td>17:15</td>\n",
       "      <td>19:15 19 May</td>\n",
       "      <td>26h</td>\n",
       "      <td>2 stops</td>\n",
       "      <td>No info</td>\n",
       "      <td>12392</td>\n",
       "    </tr>\n",
       "    <tr>\n",
       "      <th>1418</th>\n",
       "      <td>Jet Airways</td>\n",
       "      <td>6/06/2019</td>\n",
       "      <td>Delhi</td>\n",
       "      <td>Cochin</td>\n",
       "      <td>DEL → JAI → BOM → COK</td>\n",
       "      <td>05:30</td>\n",
       "      <td>04:25 07 Jun</td>\n",
       "      <td>22h 55m</td>\n",
       "      <td>2 stops</td>\n",
       "      <td>In-flight meal not included</td>\n",
       "      <td>10368</td>\n",
       "    </tr>\n",
       "    <tr>\n",
       "      <th>1674</th>\n",
       "      <td>IndiGo</td>\n",
       "      <td>24/03/2019</td>\n",
       "      <td>Banglore</td>\n",
       "      <td>New Delhi</td>\n",
       "      <td>BLR → DEL</td>\n",
       "      <td>18:25</td>\n",
       "      <td>21:20</td>\n",
       "      <td>2h 55m</td>\n",
       "      <td>non-stop</td>\n",
       "      <td>No info</td>\n",
       "      <td>7303</td>\n",
       "    </tr>\n",
       "  </tbody>\n",
       "</table>\n",
       "</div>"
      ],
      "text/plain": [
       "          Airline Date_of_Journey    Source Destination  \\\n",
       "683   Jet Airways       1/06/2019     Delhi      Cochin   \n",
       "1061    Air India      21/05/2019     Delhi      Cochin   \n",
       "1348    Air India      18/05/2019     Delhi      Cochin   \n",
       "1418  Jet Airways       6/06/2019     Delhi      Cochin   \n",
       "1674       IndiGo      24/03/2019  Banglore   New Delhi   \n",
       "\n",
       "                      Route Dep_Time  Arrival_Time Duration Total_Stops  \\\n",
       "683   DEL → NAG → BOM → COK    14:35  04:25 02 Jun  13h 50m     2 stops   \n",
       "1061  DEL → GOI → BOM → COK    22:00  19:15 22 May  21h 15m     2 stops   \n",
       "1348  DEL → HYD → BOM → COK    17:15  19:15 19 May      26h     2 stops   \n",
       "1418  DEL → JAI → BOM → COK    05:30  04:25 07 Jun  22h 55m     2 stops   \n",
       "1674              BLR → DEL    18:25         21:20   2h 55m    non-stop   \n",
       "\n",
       "                  Additional_Info  Price  \n",
       "683                       No info  13376  \n",
       "1061                      No info  10231  \n",
       "1348                      No info  12392  \n",
       "1418  In-flight meal not included  10368  \n",
       "1674                      No info   7303  "
      ]
     },
     "execution_count": 14,
     "metadata": {},
     "output_type": "execute_result"
    }
   ],
   "source": [
    "data[data.duplicated()].head()"
   ]
  },
  {
   "cell_type": "code",
   "execution_count": 15,
   "metadata": {
    "id": "a4NR8jGj-052"
   },
   "outputs": [],
   "source": [
    "data.drop_duplicates(inplace=True,ignore_index=True)"
   ]
  },
  {
   "cell_type": "code",
   "execution_count": 16,
   "metadata": {
    "colab": {
     "base_uri": "https://localhost:8080/"
    },
    "id": "b1l8GDmg_s6L",
    "outputId": "65622a74-1ed5-4091-ac37-5878d7e8cbba"
   },
   "outputs": [
    {
     "data": {
      "text/plain": [
       "(10463, 11)"
      ]
     },
     "execution_count": 16,
     "metadata": {},
     "output_type": "execute_result"
    }
   ],
   "source": [
    "data.shape"
   ]
  },
  {
   "cell_type": "code",
   "execution_count": 17,
   "metadata": {
    "id": "CSI4lI1s-fIz"
   },
   "outputs": [],
   "source": [
    "# Seperate Features"
   ]
  },
  {
   "cell_type": "code",
   "execution_count": 18,
   "metadata": {
    "id": "ZxQQwdgKymEq"
   },
   "outputs": [],
   "source": [
    "time_feat = [\"Date_of_Journey\",\"Dep_Time\",\"Arrival_Time\",\"Duration\"]"
   ]
  },
  {
   "cell_type": "code",
   "execution_count": 19,
   "metadata": {
    "id": "5aPYddKG32sz"
   },
   "outputs": [],
   "source": [
    "input_feat = list(data.columns)[:-1]"
   ]
  },
  {
   "cell_type": "code",
   "execution_count": 20,
   "metadata": {
    "id": "Z-hYYr033_me"
   },
   "outputs": [],
   "source": [
    "cat_feat = [feat for feat in input_feat if feat not in time_feat]"
   ]
  },
  {
   "cell_type": "code",
   "execution_count": 21,
   "metadata": {
    "id": "P61uWoKl-h6O"
   },
   "outputs": [],
   "source": [
    "# Check Unique Values"
   ]
  },
  {
   "cell_type": "code",
   "execution_count": 22,
   "metadata": {
    "id": "0cyokSTE4vuz"
   },
   "outputs": [],
   "source": [
    "def get_unique_vals(X:pd.DataFrame,feat_list:list):\n",
    "    for feat in feat_list:\n",
    "        unique_val_list = X[feat].unique()\n",
    "        print(f\"{feat} unique values: {len(unique_val_list)}\")\n",
    "        if len(unique_val_list) < 20:\n",
    "            print(unique_val_list)\n",
    "        print(\"\\n\")"
   ]
  },
  {
   "cell_type": "code",
   "execution_count": 23,
   "metadata": {
    "colab": {
     "base_uri": "https://localhost:8080/"
    },
    "id": "rwuzSoUo-U7H",
    "outputId": "479cb17a-89d6-4a5c-9a02-525ef8d903d5"
   },
   "outputs": [
    {
     "name": "stdout",
     "output_type": "stream",
     "text": [
      "Airline unique values: 12\n",
      "['IndiGo' 'Air India' 'Jet Airways' 'SpiceJet' 'Multiple carriers' 'GoAir'\n",
      " 'Vistara' 'Air Asia' 'Vistara Premium economy' 'Jet Airways Business'\n",
      " 'Multiple carriers Premium economy' 'Trujet']\n",
      "\n",
      "\n",
      "Source unique values: 5\n",
      "['Banglore' 'Kolkata' 'Delhi' 'Chennai' 'Mumbai']\n",
      "\n",
      "\n",
      "Destination unique values: 6\n",
      "['New Delhi' 'Banglore' 'Cochin' 'Kolkata' 'Delhi' 'Hyderabad']\n",
      "\n",
      "\n",
      "Route unique values: 129\n",
      "\n",
      "\n",
      "Total_Stops unique values: 6\n",
      "['non-stop' '2 stops' '1 stop' '3 stops' nan '4 stops']\n",
      "\n",
      "\n",
      "Additional_Info unique values: 10\n",
      "['No info' 'In-flight meal not included' 'No check-in baggage included'\n",
      " '1 Short layover' 'No Info' '1 Long layover' 'Change airports'\n",
      " 'Business class' 'Red-eye flight' '2 Long layover']\n",
      "\n",
      "\n"
     ]
    }
   ],
   "source": [
    "get_unique_vals(data,cat_feat)"
   ]
  },
  {
   "cell_type": "code",
   "execution_count": 24,
   "metadata": {
    "id": "kEKMy8Bl5CYm"
   },
   "outputs": [],
   "source": [
    "# Route -) Remove column\n",
    "# Additional_Info -) keep later while converting all to lower case"
   ]
  },
  {
   "cell_type": "code",
   "execution_count": 25,
   "metadata": {
    "id": "kq90-Duy81A2"
   },
   "outputs": [],
   "source": [
    "drop_feat = [\"Route\",\"Additional_Info\"]\n",
    "data.drop(drop_feat,axis=1,inplace=True,errors=\"ignore\")"
   ]
  },
  {
   "cell_type": "code",
   "execution_count": 26,
   "metadata": {
    "id": "hLcqEXVF89KH"
   },
   "outputs": [],
   "source": [
    "cat_feat = [feat for feat in cat_feat if feat not in drop_feat]"
   ]
  },
  {
   "cell_type": "code",
   "execution_count": 27,
   "metadata": {
    "colab": {
     "base_uri": "https://localhost:8080/"
    },
    "id": "mvRb3tZd9r7n",
    "outputId": "95da8d56-1b9b-4cd2-96b7-1401afa6ef5e"
   },
   "outputs": [
    {
     "name": "stdout",
     "output_type": "stream",
     "text": [
      "Date_of_Journey unique values: 44\n",
      "\n",
      "\n",
      "Dep_Time unique values: 222\n",
      "\n",
      "\n",
      "Arrival_Time unique values: 1343\n",
      "\n",
      "\n",
      "Duration unique values: 368\n",
      "\n",
      "\n"
     ]
    }
   ],
   "source": [
    "get_unique_vals(data,time_feat)"
   ]
  },
  {
   "cell_type": "code",
   "execution_count": 28,
   "metadata": {
    "id": "Tvw4YUhuIHki"
   },
   "outputs": [],
   "source": [
    "import seaborn as sns"
   ]
  },
  {
   "cell_type": "code",
   "execution_count": 29,
   "metadata": {
    "id": "9Lx3UDh0I9mz"
   },
   "outputs": [],
   "source": [
    "from matplotlib import rcParams\n",
    "\n",
    "# figure size in inches\n",
    "rcParams['figure.figsize'] = 20,20"
   ]
  },
  {
   "cell_type": "markdown",
   "metadata": {
    "id": "VEvqh8lMH3Tb"
   },
   "source": [
    "Visualize the cat_feat"
   ]
  },
  {
   "cell_type": "markdown",
   "metadata": {
    "id": "XJLslCmrNKkx"
   },
   "source": [
    "1.  Price vs Airline"
   ]
  },
  {
   "cell_type": "code",
   "execution_count": 30,
   "metadata": {
    "colab": {
     "base_uri": "https://localhost:8080/",
     "height": 1000
    },
    "id": "wJvKaWTfHlFa",
    "outputId": "c009b651-7c42-4884-d7c8-23c1bcf018b1"
   },
   "outputs": [
    {
     "data": {
      "image/png": "[encoded data removed]",
      "text/plain": [
       "<Figure size 1440x1440 with 1 Axes>"
      ]
     },
     "metadata": {
      "needs_background": "light"
     },
     "output_type": "display_data"
    }
   ],
   "source": [
    "airline_graph = sns.boxplot(x = \"Airline\", y = \"Price\", data=data)\n",
    "for item in airline_graph.get_xticklabels():\n",
    "    item.set_rotation(45)"
   ]
  },
  {
   "cell_type": "code",
   "execution_count": 31,
   "metadata": {
    "colab": {
     "base_uri": "https://localhost:8080/",
     "height": 1000
    },
    "id": "6PXGCRYCMqW7",
    "outputId": "2dc3b4a4-1d68-4a9e-d18f-88c8fb4b5f9d"
   },
   "outputs": [
    {
     "data": {
      "image/png": "[encoded data removed]",
      "text/plain": [
       "<Figure size 1080x1080 with 1 Axes>"
      ]
     },
     "metadata": {
      "needs_background": "light"
     },
     "output_type": "display_data"
    }
   ],
   "source": [
    "# figure size in inches\n",
    "rcParams['figure.figsize'] = 15,15\n",
    "# Price vs Source\n",
    "airline_graph = sns.countplot(x = \"Airline\", data=data)\n",
    "for item in airline_graph.get_xticklabels():\n",
    "    item.set_rotation(45)"
   ]
  },
  {
   "cell_type": "code",
   "execution_count": 32,
   "metadata": {
    "colab": {
     "base_uri": "https://localhost:8080/"
    },
    "id": "thDiaCM7_wUL",
    "outputId": "0e93c330-09d3-42f0-ee11-fe89f1179262"
   },
   "outputs": [
    {
     "data": {
      "text/plain": [
       "Jet Airways                          3849\n",
       "IndiGo                               2053\n",
       "Air India                            1752\n",
       "Multiple carriers                    1196\n",
       "SpiceJet                              818\n",
       "Vistara                               479\n",
       "Air Asia                              319\n",
       "GoAir                                 194\n",
       "Multiple carriers Premium economy      13\n",
       "Jet Airways Business                    6\n",
       "Vistara Premium economy                 3\n",
       "Trujet                                  1\n",
       "Name: Airline, dtype: int64"
      ]
     },
     "execution_count": 32,
     "metadata": {},
     "output_type": "execute_result"
    }
   ],
   "source": [
    "df[\"Airline\"].value_counts()"
   ]
  },
  {
   "cell_type": "code",
   "execution_count": 33,
   "metadata": {
    "colab": {
     "base_uri": "https://localhost:8080/",
     "height": 1000
    },
    "id": "9sxsl-JupMUr",
    "outputId": "813f91e2-485c-4229-8faa-60b745f00874"
   },
   "outputs": [
    {
     "data": {
      "image/png": "[encoded data removed]",
      "text/plain": [
       "<Figure size 1080x1080 with 1 Axes>"
      ]
     },
     "metadata": {
      "needs_background": "light"
     },
     "output_type": "display_data"
    }
   ],
   "source": [
    "airline_graph = sns.scatterplot(x = \"Airline\", y = \"Price\", data = data)\n",
    "for item in airline_graph.get_xticklabels():\n",
    "    item.set_rotation(45)"
   ]
  },
  {
   "cell_type": "markdown",
   "metadata": {
    "id": "Ys4o-7Z2NP3G"
   },
   "source": [
    "2. Price plots"
   ]
  },
  {
   "cell_type": "code",
   "execution_count": 34,
   "metadata": {
    "colab": {
     "base_uri": "https://localhost:8080/",
     "height": 624
    },
    "id": "4msB7LEMH6IK",
    "outputId": "69449d1b-00bb-4078-fb01-6b1339b7f1c4"
   },
   "outputs": [
    {
     "data": {
      "text/plain": [
       "<AxesSubplot:xlabel='Price'>"
      ]
     },
     "execution_count": 34,
     "metadata": {},
     "output_type": "execute_result"
    },
    {
     "data": {
      "image/png": "[encoded data removed]",
      "text/plain": [
       "<Figure size 720x720 with 1 Axes>"
      ]
     },
     "metadata": {
      "needs_background": "light"
     },
     "output_type": "display_data"
    }
   ],
   "source": [
    "# figure size in inches\n",
    "rcParams['figure.figsize'] = 10,10\n",
    "sns.boxplot(x = \"Price\", data = data)"
   ]
  },
  {
   "cell_type": "code",
   "execution_count": 35,
   "metadata": {
    "colab": {
     "base_uri": "https://localhost:8080/",
     "height": 624
    },
    "id": "f7fNqmm_M0gi",
    "outputId": "f2500137-24e1-4dd2-f1ab-ad65ae807e02"
   },
   "outputs": [
    {
     "data": {
      "text/plain": [
       "<AxesSubplot:xlabel='Price', ylabel='Density'>"
      ]
     },
     "execution_count": 35,
     "metadata": {},
     "output_type": "execute_result"
    },
    {
     "data": {
      "image/png": "[encoded data removed]",
      "text/plain": [
       "<Figure size 720x720 with 1 Axes>"
      ]
     },
     "metadata": {
      "needs_background": "light"
     },
     "output_type": "display_data"
    }
   ],
   "source": [
    "# figure size in inches\n",
    "rcParams['figure.figsize'] = 10,10\n",
    "sns.kdeplot(x = \"Price\", data = data, multiple=\"stack\")"
   ]
  },
  {
   "cell_type": "markdown",
   "metadata": {
    "id": "WK87x2TGNVDZ"
   },
   "source": [
    "3. Source vs Price"
   ]
  },
  {
   "cell_type": "code",
   "execution_count": 36,
   "metadata": {
    "colab": {
     "base_uri": "https://localhost:8080/",
     "height": 634
    },
    "id": "3c6GXgwXJf7q",
    "outputId": "f5f2dc05-08c4-454b-bc8d-7c21a6bd3993"
   },
   "outputs": [
    {
     "data": {
      "text/plain": [
       "<AxesSubplot:xlabel='Price', ylabel='Density'>"
      ]
     },
     "execution_count": 36,
     "metadata": {},
     "output_type": "execute_result"
    },
    {
     "data": {
      "image/png": "[encoded data removed]",
      "text/plain": [
       "<Figure size 720x720 with 1 Axes>"
      ]
     },
     "metadata": {
      "needs_background": "light"
     },
     "output_type": "display_data"
    }
   ],
   "source": [
    "# figure size in inches\n",
    "rcParams['figure.figsize'] = 10,10\n",
    "# Price vs Source\n",
    "sns.kdeplot(x = \"Price\", data=data, hue = \"Source\", multiple=\"stack\")"
   ]
  },
  {
   "cell_type": "code",
   "execution_count": 37,
   "metadata": {
    "colab": {
     "base_uri": "https://localhost:8080/"
    },
    "id": "qpbNJFJLDVd0",
    "outputId": "49ef277a-40ca-4cbd-a41e-468914df9e0d"
   },
   "outputs": [
    {
     "data": {
      "text/plain": [
       "Delhi       42.469344\n",
       "Kolkata     26.874473\n",
       "Banglore    20.565384\n",
       "Mumbai       6.524385\n",
       "Chennai      3.566414\n",
       "Name: Source, dtype: float64"
      ]
     },
     "execution_count": 37,
     "metadata": {},
     "output_type": "execute_result"
    }
   ],
   "source": [
    "# % Flights from Source\n",
    "df[\"Source\"].value_counts()/df.shape[0]*100"
   ]
  },
  {
   "cell_type": "markdown",
   "metadata": {
    "id": "Bb43RC_hNaGZ"
   },
   "source": [
    "4. Destination vs Price"
   ]
  },
  {
   "cell_type": "code",
   "execution_count": 38,
   "metadata": {
    "colab": {
     "base_uri": "https://localhost:8080/",
     "height": 624
    },
    "id": "SfxeetEQJgFR",
    "outputId": "e38cf796-bb51-4e5e-ac26-62101e44f7cb"
   },
   "outputs": [
    {
     "data": {
      "text/plain": [
       "<AxesSubplot:xlabel='Destination', ylabel='Price'>"
      ]
     },
     "execution_count": 38,
     "metadata": {},
     "output_type": "execute_result"
    },
    {
     "data": {
      "image/png": "[encoded data removed]",
      "text/plain": [
       "<Figure size 720x720 with 1 Axes>"
      ]
     },
     "metadata": {
      "needs_background": "light"
     },
     "output_type": "display_data"
    }
   ],
   "source": [
    "# Price vs Destination\n",
    "sns.boxplot(x = \"Destination\", y = \"Price\", data=data)"
   ]
  },
  {
   "cell_type": "code",
   "execution_count": 39,
   "metadata": {
    "colab": {
     "base_uri": "https://localhost:8080/"
    },
    "id": "suMaiZjTDveo",
    "outputId": "7964d934-bb12-42db-e344-c17bb14e4c4e"
   },
   "outputs": [
    {
     "data": {
      "text/plain": [
       "Cochin       42.469344\n",
       "Banglore     26.874473\n",
       "Delhi        11.841243\n",
       "New Delhi     8.724141\n",
       "Hyderabad     6.524385\n",
       "Kolkata       3.566414\n",
       "Name: Destination, dtype: float64"
      ]
     },
     "execution_count": 39,
     "metadata": {},
     "output_type": "execute_result"
    }
   ],
   "source": [
    "# % Flights to Destination\n",
    "df[\"Destination\"].value_counts()/df.shape[0]*100"
   ]
  },
  {
   "cell_type": "markdown",
   "metadata": {
    "id": "CEm2UyxYNdjy"
   },
   "source": [
    "5. Total_Stops vs Price"
   ]
  },
  {
   "cell_type": "code",
   "execution_count": 40,
   "metadata": {
    "colab": {
     "base_uri": "https://localhost:8080/",
     "height": 624
    },
    "id": "w8Vv9Tb_JgNE",
    "outputId": "7ef79c62-e810-4c91-9add-08af5447071a"
   },
   "outputs": [
    {
     "data": {
      "text/plain": [
       "<AxesSubplot:xlabel='Total_Stops', ylabel='Price'>"
      ]
     },
     "execution_count": 40,
     "metadata": {},
     "output_type": "execute_result"
    },
    {
     "data": {
      "image/png": "[encoded data removed]",
      "text/plain": [
       "<Figure size 720x720 with 1 Axes>"
      ]
     },
     "metadata": {
      "needs_background": "light"
     },
     "output_type": "display_data"
    }
   ],
   "source": [
    "# figure size in inches\n",
    "rcParams['figure.figsize'] = 10,10\n",
    "sns.barplot(x = \"Total_Stops\", y = \"Price\", data = data)"
   ]
  },
  {
   "cell_type": "code",
   "execution_count": 41,
   "metadata": {
    "colab": {
     "base_uri": "https://localhost:8080/"
    },
    "id": "cgpnAQJSD1ve",
    "outputId": "7d6d6266-cc0a-43f7-9453-d7615eb95e6b"
   },
   "outputs": [
    {
     "data": {
      "text/plain": [
       "1 stop      52.653749\n",
       "non-stop    32.678087\n",
       "2 stops     14.228213\n",
       "3 stops      0.421230\n",
       "4 stops      0.009361\n",
       "Name: Total_Stops, dtype: float64"
      ]
     },
     "execution_count": 41,
     "metadata": {},
     "output_type": "execute_result"
    }
   ],
   "source": [
    "# % Stops for Flights\n",
    "df[\"Total_Stops\"].value_counts()/df.shape[0]*100"
   ]
  },
  {
   "cell_type": "markdown",
   "metadata": {
    "id": "wQSUwZCBHx4Z"
   },
   "source": [
    "Time Features - Feature Splitting"
   ]
  },
  {
   "cell_type": "code",
   "execution_count": 42,
   "metadata": {
    "id": "fMdpH0WLhjgY"
   },
   "outputs": [],
   "source": [
    "# 1. \"Date_of_Journey\""
   ]
  },
  {
   "cell_type": "code",
   "execution_count": 43,
   "metadata": {
    "colab": {
     "base_uri": "https://localhost:8080/"
    },
    "id": "7IPQAuGGF6M4",
    "outputId": "3a8a5ee8-4518-43e3-839f-ef997c20e806"
   },
   "outputs": [
    {
     "data": {
      "text/plain": [
       "array([2019], dtype=int64)"
      ]
     },
     "execution_count": 43,
     "metadata": {},
     "output_type": "execute_result"
    }
   ],
   "source": [
    "pd.to_datetime(data[\"Date_of_Journey\"]).dt.year.unique()"
   ]
  },
  {
   "cell_type": "code",
   "execution_count": 44,
   "metadata": {
    "id": "QP07akYNCiwh"
   },
   "outputs": [],
   "source": [
    "data[\"journey_day\"] = pd.to_datetime(data[\"Date_of_Journey\"]).dt.day\n",
    "data[\"journey_month\"] = pd.to_datetime(data[\"Date_of_Journey\"]).dt.month"
   ]
  },
  {
   "cell_type": "code",
   "execution_count": 45,
   "metadata": {
    "colab": {
     "base_uri": "https://localhost:8080/"
    },
    "id": "loMTytDjF03x",
    "outputId": "61e3bbdb-9cc7-4640-ae81-10739e77453d"
   },
   "outputs": [
    {
     "data": {
      "text/plain": [
       "Airline                IndiGo\n",
       "Source               Banglore\n",
       "Destination         New Delhi\n",
       "Dep_Time                22:20\n",
       "Arrival_Time     01:10 22 Mar\n",
       "Duration               2h 50m\n",
       "Total_Stops          non-stop\n",
       "Price                    3897\n",
       "journey_day                24\n",
       "journey_month               3\n",
       "Name: 0, dtype: object"
      ]
     },
     "execution_count": 45,
     "metadata": {},
     "output_type": "execute_result"
    }
   ],
   "source": [
    "data.drop([\"Date_of_Journey\"],axis=1,inplace=True)\n",
    "data.iloc[0]"
   ]
  },
  {
   "cell_type": "code",
   "execution_count": 46,
   "metadata": {
    "id": "nrnOY88FlnaA"
   },
   "outputs": [],
   "source": [
    "time_feat.remove(\"Date_of_Journey\")\n",
    "time_feat.append(\"journey_day\")\n",
    "time_feat.append(\"journey_month\")"
   ]
  },
  {
   "cell_type": "code",
   "execution_count": 47,
   "metadata": {
    "id": "STQl7EzDG-rV"
   },
   "outputs": [],
   "source": [
    "# 2. \"Duration\""
   ]
  },
  {
   "cell_type": "code",
   "execution_count": 48,
   "metadata": {
    "id": "aBhS9chti5HN"
   },
   "outputs": [],
   "source": [
    "data[\"Duration\"] = data['Duration'].str.replace(\"h\", '*60').str.replace(' ','+').\\\n",
    "str.replace('m','*1').apply(eval)"
   ]
  },
  {
   "cell_type": "code",
   "execution_count": 49,
   "metadata": {
    "id": "socOHdW8hz8V"
   },
   "outputs": [],
   "source": [
    "# 3. Dep_Time & Arrival_Time"
   ]
  },
  {
   "cell_type": "code",
   "execution_count": 50,
   "metadata": {
    "id": "ZbRCuWCWjsUP"
   },
   "outputs": [],
   "source": [
    "data[\"Dep_hour\"] = pd.to_datetime(data[\"Dep_Time\"]).dt.hour\n",
    "data[\"Dep_minute\"] = pd.to_datetime(data[\"Dep_Time\"]).dt.minute "
   ]
  },
  {
   "cell_type": "code",
   "execution_count": 51,
   "metadata": {
    "id": "Nb05nPluklSL"
   },
   "outputs": [],
   "source": [
    "data[\"Arrival_hour\"] = pd.to_datetime(data[\"Arrival_Time\"]).dt.hour\n",
    "data[\"Arrival_minute\"] = pd.to_datetime(data[\"Arrival_Time\"]).dt.minute"
   ]
  },
  {
   "cell_type": "code",
   "execution_count": 52,
   "metadata": {
    "id": "0V5Mag2fk1rM"
   },
   "outputs": [],
   "source": [
    "data.drop([\"Dep_Time\",\"Arrival_Time\"],axis=1,inplace=True)"
   ]
  },
  {
   "cell_type": "code",
   "execution_count": 53,
   "metadata": {
    "id": "xAvaHEkhlGT7"
   },
   "outputs": [],
   "source": [
    "time_feat.remove(\"Dep_Time\")\n",
    "time_feat.append(\"Dep_hour\")\n",
    "time_feat.append(\"Dep_minute\")\n",
    "\n",
    "time_feat.remove(\"Arrival_Time\")\n",
    "time_feat.append(\"Arrival_hour\")\n",
    "time_feat.append(\"Arrival_minute\")"
   ]
  },
  {
   "cell_type": "code",
   "execution_count": 54,
   "metadata": {
    "colab": {
     "base_uri": "https://localhost:8080/"
    },
    "id": "x0OJdhoXlP9q",
    "outputId": "1511f17f-23bc-4ea4-df3f-8afbc4e28d04"
   },
   "outputs": [
    {
     "data": {
      "text/plain": [
       "['Duration',\n",
       " 'journey_day',\n",
       " 'journey_month',\n",
       " 'Dep_hour',\n",
       " 'Dep_minute',\n",
       " 'Arrival_hour',\n",
       " 'Arrival_minute']"
      ]
     },
     "execution_count": 54,
     "metadata": {},
     "output_type": "execute_result"
    }
   ],
   "source": [
    "time_feat"
   ]
  },
  {
   "cell_type": "code",
   "execution_count": 55,
   "metadata": {
    "colab": {
     "base_uri": "https://localhost:8080/",
     "height": 624
    },
    "id": "l26qrbv1mjnJ",
    "outputId": "06bcd158-b2c3-45aa-b1d0-2408a8eff05b"
   },
   "outputs": [
    {
     "data": {
      "text/plain": [
       "<AxesSubplot:xlabel='journey_month', ylabel='count'>"
      ]
     },
     "execution_count": 55,
     "metadata": {},
     "output_type": "execute_result"
    },
    {
     "data": {
      "image/png": "[encoded data removed]",
      "text/plain": [
       "<Figure size 720x720 with 1 Axes>"
      ]
     },
     "metadata": {
      "needs_background": "light"
     },
     "output_type": "display_data"
    }
   ],
   "source": [
    "# Duration vs Price \n",
    "sns.countplot(x = \"journey_month\", data = data)"
   ]
  },
  {
   "cell_type": "code",
   "execution_count": 56,
   "metadata": {
    "colab": {
     "base_uri": "https://localhost:8080/"
    },
    "id": "8WhmSZUztrwR",
    "outputId": "739d69a9-7122-4169-d5ec-549a7705228e"
   },
   "outputs": [
    {
     "data": {
      "text/plain": [
       "['Airline', 'Source', 'Destination', 'Total_Stops']"
      ]
     },
     "execution_count": 56,
     "metadata": {},
     "output_type": "execute_result"
    }
   ],
   "source": [
    "cat_feat"
   ]
  },
  {
   "cell_type": "code",
   "execution_count": 57,
   "metadata": {
    "id": "5OUtZStBuDic"
   },
   "outputs": [],
   "source": [
    "pd.set_option('display.max_columns', None)"
   ]
  },
  {
   "cell_type": "code",
   "execution_count": 58,
   "metadata": {
    "id": "49aKnJ_rriB0"
   },
   "outputs": [],
   "source": [
    "data_demo = data.copy()"
   ]
  },
  {
   "cell_type": "code",
   "execution_count": 59,
   "metadata": {
    "id": "aEMAym9Yrx6I"
   },
   "outputs": [],
   "source": [
    "data_demo = pd.get_dummies(data_demo,columns = ['Airline', 'Source', 'Destination'], drop_first = True)"
   ]
  },
  {
   "cell_type": "code",
   "execution_count": 60,
   "metadata": {
    "colab": {
     "base_uri": "https://localhost:8080/"
    },
    "id": "YasHkssaryAc",
    "outputId": "3c2b8922-63ff-4ed7-8d54-53020195658d"
   },
   "outputs": [
    {
     "data": {
      "text/plain": [
       "(10463, 29)"
      ]
     },
     "execution_count": 60,
     "metadata": {},
     "output_type": "execute_result"
    }
   ],
   "source": [
    "data_demo.shape"
   ]
  },
  {
   "cell_type": "code",
   "execution_count": 61,
   "metadata": {
    "colab": {
     "base_uri": "https://localhost:8080/",
     "height": 1000
    },
    "id": "Gk1OqfclnCso",
    "outputId": "1e2a575b-b595-40ab-d9b8-7b63033fc594"
   },
   "outputs": [
    {
     "data": {
      "text/plain": [
       "<AxesSubplot:>"
      ]
     },
     "execution_count": 61,
     "metadata": {},
     "output_type": "execute_result"
    },
    {
     "data": {
      "image/png": "[encoded data removed]",
      "text/plain": [
       "<Figure size 1440x1440 with 2 Axes>"
      ]
     },
     "metadata": {
      "needs_background": "light"
     },
     "output_type": "display_data"
    }
   ],
   "source": [
    "# figure size in inches\n",
    "rcParams['figure.figsize'] = 20,20\n",
    "sns.heatmap(data.corr(), annot = True, cmap = \"RdYlGn\")"
   ]
  },
  {
   "cell_type": "code",
   "execution_count": 62,
   "metadata": {
    "colab": {
     "base_uri": "https://localhost:8080/"
    },
    "id": "QSCRXUsopmSB",
    "outputId": "aca6e533-1cf5-4445-f762-55386dfb7e3f"
   },
   "outputs": [
    {
     "data": {
      "text/plain": [
       "Airline              IndiGo\n",
       "Source             Banglore\n",
       "Destination       New Delhi\n",
       "Duration                170\n",
       "Total_Stops        non-stop\n",
       "Price                  3897\n",
       "journey_day              24\n",
       "journey_month             3\n",
       "Dep_hour                 22\n",
       "Dep_minute               20\n",
       "Arrival_hour              1\n",
       "Arrival_minute           10\n",
       "Name: 0, dtype: object"
      ]
     },
     "execution_count": 62,
     "metadata": {},
     "output_type": "execute_result"
    }
   ],
   "source": [
    "data.iloc[0]"
   ]
  },
  {
   "cell_type": "code",
   "execution_count": 63,
   "metadata": {
    "id": "kYDLM5XAdX_w"
   },
   "outputs": [],
   "source": [
    "# Imbalance in data\n",
    "y = data[\"Price\"]\n",
    "X = data.drop([\"Price\"],axis=1)"
   ]
  },
  {
   "cell_type": "code",
   "execution_count": 64,
   "metadata": {
    "colab": {
     "base_uri": "https://localhost:8080/",
     "height": 516
    },
    "id": "1QM712D2dYOB",
    "outputId": "92bfa7f8-2f38-489c-941c-606370de719d"
   },
   "outputs": [
    {
     "data": {
      "text/plain": [
       "<AxesSubplot:xlabel='Price', ylabel='Density'>"
      ]
     },
     "execution_count": 64,
     "metadata": {},
     "output_type": "execute_result"
    },
    {
     "data": {
      "image/png": "[encoded data removed]",
      "text/plain": [
       "<Figure size 504x504 with 1 Axes>"
      ]
     },
     "metadata": {
      "needs_background": "light"
     },
     "output_type": "display_data"
    }
   ],
   "source": [
    "rcParams['figure.figsize'] = 7,7\n",
    "sns.distplot(y)"
   ]
  },
  {
   "cell_type": "markdown",
   "metadata": {
    "id": "2lrhZU-B82tX"
   },
   "source": [
    "2. FEATURE TRANSFORMATION"
   ]
  },
  {
   "cell_type": "code",
   "execution_count": 65,
   "metadata": {
    "id": "zCcTtQDTMHIz"
   },
   "outputs": [],
   "source": [
    "df_new = df.copy()"
   ]
  },
  {
   "cell_type": "markdown",
   "metadata": {
    "id": "4Ctuh-5pl6YQ"
   },
   "source": [
    "Drop Duplicates"
   ]
  },
  {
   "cell_type": "code",
   "execution_count": 66,
   "metadata": {
    "colab": {
     "base_uri": "https://localhost:8080/"
    },
    "id": "ApezpBZMl6Dz",
    "outputId": "3084ae64-e11a-4fd2-866f-fd2b9b6971fe"
   },
   "outputs": [
    {
     "data": {
      "text/plain": [
       "220"
      ]
     },
     "execution_count": 66,
     "metadata": {},
     "output_type": "execute_result"
    }
   ],
   "source": [
    "df.duplicated().sum()"
   ]
  },
  {
   "cell_type": "code",
   "execution_count": 67,
   "metadata": {
    "id": "B1mQTjGsmFCD"
   },
   "outputs": [],
   "source": [
    "df.drop_duplicates(ignore_index=True,inplace=True)"
   ]
  },
  {
   "cell_type": "code",
   "execution_count": 68,
   "metadata": {
    "colab": {
     "base_uri": "https://localhost:8080/"
    },
    "id": "JFWMXzHMmS1i",
    "outputId": "155b748c-21bf-47a7-8893-1b7821669566"
   },
   "outputs": [
    {
     "data": {
      "text/plain": [
       "0"
      ]
     },
     "execution_count": 68,
     "metadata": {},
     "output_type": "execute_result"
    }
   ],
   "source": [
    "df.duplicated().sum()"
   ]
  },
  {
   "cell_type": "markdown",
   "metadata": {
    "id": "Cc5fp5RGONW2"
   },
   "source": [
    "Drop rows with categories having 1 count"
   ]
  },
  {
   "cell_type": "code",
   "execution_count": 69,
   "metadata": {
    "id": "qdSoeTIxKOMg"
   },
   "outputs": [],
   "source": [
    "def drop_exceptions(X : pd.DataFrame, tol = 1, columns = [\"Airline\",\"Total_Stops\"],)->pd.DataFrame:\n",
    "    X_new = X.copy()\n",
    "    for col in columns:\n",
    "        col_count = X_new[col].value_counts()\n",
    "        exception_col = col_count[col_count == 1].index.values[0]\n",
    "        X_new.drop(X_new[X_new[col] == exception_col].index,axis=0,inplace=True,)\n",
    "        X_new.reset_index(drop=True,inplace=True)\n",
    "    return X_new"
   ]
  },
  {
   "cell_type": "code",
   "execution_count": 70,
   "metadata": {
    "id": "Fz7Jj8I3NHMK"
   },
   "outputs": [],
   "source": [
    "df = drop_exceptions(df,)"
   ]
  },
  {
   "cell_type": "code",
   "execution_count": 71,
   "metadata": {},
   "outputs": [
    {
     "data": {
      "text/plain": [
       "Jet Airways                          3700\n",
       "IndiGo                               2043\n",
       "Air India                            1694\n",
       "Multiple carriers                    1196\n",
       "SpiceJet                              815\n",
       "Vistara                               478\n",
       "Air Asia                              319\n",
       "GoAir                                 194\n",
       "Multiple carriers Premium economy      13\n",
       "Jet Airways Business                    6\n",
       "Vistara Premium economy                 3\n",
       "Name: Airline, dtype: int64"
      ]
     },
     "execution_count": 71,
     "metadata": {},
     "output_type": "execute_result"
    }
   ],
   "source": [
    "df[\"Airline\"].value_counts()"
   ]
  },
  {
   "cell_type": "code",
   "execution_count": 72,
   "metadata": {
    "id": "7omhulh7fp8e"
   },
   "outputs": [],
   "source": [
    "from sklearn.model_selection import StratifiedShuffleSplit"
   ]
  },
  {
   "cell_type": "code",
   "execution_count": 73,
   "metadata": {
    "colab": {
     "base_uri": "https://localhost:8080/"
    },
    "id": "qaxZxDFCP5OT",
    "outputId": "8ffe7a54-55ec-4c1b-f3ef-2885d1842890"
   },
   "outputs": [
    {
     "data": {
      "text/plain": [
       "count    10461.000000\n",
       "mean      9026.281809\n",
       "std       4624.073433\n",
       "min       1759.000000\n",
       "25%       5224.000000\n",
       "50%       8266.000000\n",
       "75%      12341.000000\n",
       "max      79512.000000\n",
       "Name: Price, dtype: float64"
      ]
     },
     "execution_count": 73,
     "metadata": {},
     "output_type": "execute_result"
    }
   ],
   "source": [
    "df[\"Price\"].describe()"
   ]
  },
  {
   "cell_type": "code",
   "execution_count": 74,
   "metadata": {
    "colab": {
     "base_uri": "https://localhost:8080/",
     "height": 460
    },
    "id": "VgrKyEhxOXbD",
    "outputId": "d29bd944-6ac4-426e-d655-8ee9b3b4c2f0"
   },
   "outputs": [
    {
     "data": {
      "text/plain": [
       "<AxesSubplot:xlabel='Price', ylabel='Count'>"
      ]
     },
     "execution_count": 74,
     "metadata": {},
     "output_type": "execute_result"
    },
    {
     "data": {
      "image/png": "[encoded data removed]",
      "text/plain": [
       "<Figure size 504x504 with 1 Axes>"
      ]
     },
     "metadata": {
      "needs_background": "light"
     },
     "output_type": "display_data"
    }
   ],
   "source": [
    "sns.histplot(df[\"Price\"])"
   ]
  },
  {
   "cell_type": "code",
   "execution_count": 75,
   "metadata": {
    "id": "eJWGkUwffNIZ"
   },
   "outputs": [],
   "source": [
    "df[\"Price_cat\"] = pd.cut(\n",
    "                df[\"Price\"],\n",
    "                bins=[1758.0, 5277.0, 8372.0, 12373.0, np.inf],\n",
    "                labels=[1,2,3,4]\n",
    "            )"
   ]
  },
  {
   "cell_type": "code",
   "execution_count": 76,
   "metadata": {
    "colab": {
     "base_uri": "https://localhost:8080/"
    },
    "id": "4wfj_9DvRfku",
    "outputId": "b480f9ad-38af-4d93-c261-0b22fa26a5e4"
   },
   "outputs": [
    {
     "data": {
      "text/plain": [
       "1    25.695440\n",
       "2    25.456457\n",
       "3    24.729949\n",
       "4    24.118153\n",
       "Name: Price_cat, dtype: float64"
      ]
     },
     "execution_count": 76,
     "metadata": {},
     "output_type": "execute_result"
    }
   ],
   "source": [
    "df[\"Price_cat\"].value_counts()/df.shape[0]*100"
   ]
  },
  {
   "cell_type": "code",
   "execution_count": 77,
   "metadata": {
    "id": "LSY_bXh4fZYL"
   },
   "outputs": [],
   "source": [
    "strat_train_set = None\n",
    "strat_test_set = None\n",
    "\n",
    "split = StratifiedShuffleSplit(n_splits=1, test_size=0.2, random_state=24)"
   ]
  },
  {
   "cell_type": "code",
   "execution_count": 78,
   "metadata": {
    "id": "GKlQjC2y_ZuT"
   },
   "outputs": [],
   "source": [
    "strat_df = df[[\"Price_cat\"]]"
   ]
  },
  {
   "cell_type": "code",
   "execution_count": 79,
   "metadata": {
    "id": "TYIa7zm-N7fQ"
   },
   "outputs": [],
   "source": [
    "for train_index,test_index in split.split(df, strat_df):\n",
    "    strat_train_set = df.loc[train_index].drop([\"Price_cat\"],axis=1)\n",
    "    strat_test_set = df.loc[test_index].drop([\"Price_cat\"],axis=1)"
   ]
  },
  {
   "cell_type": "code",
   "execution_count": 80,
   "metadata": {
    "scrolled": true
   },
   "outputs": [
    {
     "data": {
      "text/plain": [
       "Jet Airways                           81.648649\n",
       "IndiGo                                80.469897\n",
       "Air India                             79.102715\n",
       "Multiple carriers                     77.090301\n",
       "SpiceJet                              80.981595\n",
       "Vistara                               75.313808\n",
       "Air Asia                              77.742947\n",
       "GoAir                                 80.412371\n",
       "Multiple carriers Premium economy     61.538462\n",
       "Jet Airways Business                 100.000000\n",
       "Vistara Premium economy              100.000000\n",
       "Name: Airline, dtype: float64"
      ]
     },
     "execution_count": 80,
     "metadata": {},
     "output_type": "execute_result"
    }
   ],
   "source": [
    "(strat_train_set[\"Airline\"].value_counts()/df[\"Airline\"].value_counts())*100"
   ]
  },
  {
   "cell_type": "code",
   "execution_count": 81,
   "metadata": {},
   "outputs": [
    {
     "data": {
      "text/plain": [
       "1759.0"
      ]
     },
     "execution_count": 81,
     "metadata": {},
     "output_type": "execute_result"
    }
   ],
   "source": [
    "df[\"Price\"].describe()[\"min\"]"
   ]
  },
  {
   "cell_type": "code",
   "execution_count": null,
   "metadata": {},
   "outputs": [],
   "source": []
  },
  {
   "cell_type": "code",
   "execution_count": 82,
   "metadata": {
    "colab": {
     "base_uri": "https://localhost:8080/",
     "height": 460
    },
    "id": "f8fPNTESew99",
    "outputId": "246f1723-9f4a-44b8-927f-78ec97caf0fc"
   },
   "outputs": [
    {
     "data": {
      "text/plain": [
       "<AxesSubplot:xlabel='Price', ylabel='Density'>"
      ]
     },
     "execution_count": 82,
     "metadata": {},
     "output_type": "execute_result"
    },
    {
     "data": {
      "image/png": "[encoded data removed]",
      "text/plain": [
       "<Figure size 504x504 with 1 Axes>"
      ]
     },
     "metadata": {
      "needs_background": "light"
     },
     "output_type": "display_data"
    }
   ],
   "source": [
    "sns.kdeplot(strat_train_set[\"Price\"])\n",
    "sns.kdeplot(strat_test_set[\"Price\"])"
   ]
  },
  {
   "cell_type": "code",
   "execution_count": 83,
   "metadata": {
    "id": "T780vonW74no"
   },
   "outputs": [],
   "source": [
    "X_train = strat_train_set.drop([\"Price\"],axis=1)\n",
    "X_test = strat_test_set.drop([\"Price\"],axis=1)\n",
    "y_train = strat_train_set[\"Price\"]\n",
    "y_test = strat_test_set[\"Price\"]"
   ]
  },
  {
   "cell_type": "code",
   "execution_count": 84,
   "metadata": {
    "id": "sUE_kQ8adRbI"
   },
   "outputs": [],
   "source": [
    "# Feature Engineering"
   ]
  },
  {
   "cell_type": "code",
   "execution_count": 85,
   "metadata": {
    "id": "lSExo1_tvYyX"
   },
   "outputs": [],
   "source": [
    "from sklearn.base import BaseEstimator, TransformerMixin"
   ]
  },
  {
   "cell_type": "code",
   "execution_count": 86,
   "metadata": {
    "id": "59Gdqlvg4g7d"
   },
   "outputs": [],
   "source": [
    "DAY_KEY = \"_day\"\n",
    "MONTH_KEY = \"_month\"\n",
    "HOUR_KEY = \"_hour\"\n",
    "MINUTE_KEY = \"_minute\""
   ]
  },
  {
   "cell_type": "code",
   "execution_count": 87,
   "metadata": {
    "id": "80Iqt1oqwGfl"
   },
   "outputs": [],
   "source": [
    "class FeatureSplitter(BaseEstimator, TransformerMixin):\n",
    "\n",
    "    def __init__ (self,date_columns : list =[0], time_columns : list = [1,2],\n",
    "                 sep = \"_\"):\n",
    "        \"\"\"\n",
    "        date_columns - \n",
    "        Date_of_Journey idx = 0\n",
    "\n",
    "        time_columns - \n",
    "        Dep_Time idx = 1\n",
    "        Arrival_Time idx = 2\n",
    "\n",
    "        \"\"\"\n",
    "        try:\n",
    "            self.date_columns : list = date_columns\n",
    "            self.time_columns : list = time_columns\n",
    "            self.sep = sep\n",
    "\n",
    "        except Exception as e:\n",
    "            print(e)\n",
    "\n",
    "    def fit (self,X, y=None):\n",
    "        return self\n",
    "\n",
    "    def transform(self,X, y=None):\n",
    "        try:\n",
    "            # convert any dataframe to numpy array\n",
    "            X = X.to_numpy()\n",
    "\n",
    "            # date_columns spliting\n",
    "            for col in self.date_columns:\n",
    "                feat_day = pd.to_datetime(X[:,col]).day\n",
    "                feat_month = pd.to_datetime(X[:,col]).month\n",
    "                X = np.c_[X,feat_day,feat_month]\n",
    "\n",
    "            # time_columns splitting\n",
    "            for col in self.time_columns:\n",
    "                feat_hour = pd.to_datetime(X[:,col]).hour\n",
    "                feat_mimute = pd.to_datetime(X[:,col]).minute\n",
    "                X = np.c_[X,feat_hour,feat_mimute]\n",
    "\n",
    "            # delete the redundant columns\n",
    "            idx_shift = 0\n",
    "            for col in self.date_columns + self.time_columns:\n",
    "                X = np.delete(X,col-idx_shift,axis=1)\n",
    "                idx_shift += 1\n",
    "\n",
    "            return X\n",
    "        except Exception as e:\n",
    "            print(e)\n"
   ]
  },
  {
   "cell_type": "code",
   "execution_count": 88,
   "metadata": {
    "id": "FATbQ4Cm4yRA"
   },
   "outputs": [],
   "source": [
    "class FeatureCalculator(BaseEstimator, TransformerMixin):\n",
    "\n",
    "    def __init__ (self,feat_calculate_idx = [0]):\n",
    "        \"\"\"\n",
    "        feat_delete_idx - \n",
    "        Route idx = 0\n",
    "        Additional_info idx = 2\n",
    "\n",
    "        feat_calculate idx - \n",
    "        Duration idx = 2\n",
    "        \"\"\"\n",
    "        try:\n",
    "            self.feat_calculate_idx : list = feat_calculate_idx\n",
    "            #self.feat_delete_idx : list = feat_delete_idx\n",
    "\n",
    "        except Exception as e:\n",
    "            print(e)\n",
    "\n",
    "    def fit (self,X, y=None):\n",
    "        return self\n",
    "\n",
    "    def transform(self,X, y=None)-> np.array:\n",
    "        try:\n",
    "            # convert any dataframe to numpy array\n",
    "            if type(X) is not np.ndarray:\n",
    "                X = X.to_numpy()\n",
    "\n",
    "            idx_shift = 0\n",
    "            \"\"\"# delete the req. Features\n",
    "            for col in self.feat_delete_idx:\n",
    "                X = np.delete(X,col-idx_shift,axis=1)\n",
    "                idx_shift += 1\"\"\"\n",
    "\n",
    "\n",
    "            \"\"\"# calculate the feature value\n",
    "            for col in self.feat_calculate_idx:\n",
    "                # we are converting duration to\n",
    "                feat_minutes = pd.Series(X[:,col-idx_shift]).str.replace(\"h\", '*60').\\\n",
    "                str.replace(' ','+').str.replace('m','*1').apply(eval).to_numpy()\n",
    "                X = np.c_[X,feat_minutes]\"\"\"\n",
    "            for col in self.feat_calculate_idx:\n",
    "                feat = list(X[:,col-idx_shift])\n",
    "                # Check if feat contains only hour or mins\n",
    "                for i in range(len(feat)):\n",
    "                    if len(feat[i].split()) != 2:    \n",
    "                        if \"h\" in feat[i]:\n",
    "                            feat[i] = feat[i].strip() + \" 0m\"  # Adds 0 minute\n",
    "                        else:\n",
    "                            feat[i] = \"0h \" + feat[i]   # Adds 0 hour\n",
    "\n",
    "                feat_hours = []\n",
    "                feat_minutes = []\n",
    "                    \n",
    "                # Extract hours & minutes\n",
    "                for i in range(len(feat)):\n",
    "                    feat_hours.append(int(feat[i].split(sep = \"h\")[0]))    \n",
    "                    feat_minutes.append(int(feat[i].split(sep = \"m\")[0].split()[-1]))    \n",
    "                X = np.c_[X,feat_hours,feat_minutes]\n",
    "                \n",
    "                # delete the redundant column\n",
    "                X = np.delete(X,col-idx_shift,axis=1)\n",
    "                idx_shift += 1\n",
    "\n",
    "            return X\n",
    "\n",
    "        except Exception as e:\n",
    "            print(e)\n"
   ]
  },
  {
   "cell_type": "code",
   "execution_count": 89,
   "metadata": {
    "colab": {
     "base_uri": "https://localhost:8080/"
    },
    "id": "x95cnKw6SQqx",
    "outputId": "b4e6d867-4c3c-49bd-d996-ddd1acca62d9"
   },
   "outputs": [
    {
     "name": "stdout",
     "output_type": "stream",
     "text": [
      "['Date_of_Journey', 'Dep_Time', 'Arrival_Time', 'Duration']\n"
     ]
    }
   ],
   "source": [
    "num_feat = [feat for feat in data_test if feat not in cat_feat]\n",
    "num_feat.remove(\"Price\")\n",
    "num_feat.remove(\"Route\")\n",
    "num_feat.remove(\"Additional_Info\")\n",
    "print(num_feat)"
   ]
  },
  {
   "cell_type": "code",
   "execution_count": 90,
   "metadata": {
    "id": "gRoWLCwM9ch_"
   },
   "outputs": [],
   "source": [
    "from sklearn.pipeline import Pipeline\n",
    "from sklearn.impute import SimpleImputer\n",
    "from sklearn.preprocessing import StandardScaler\n",
    "from sklearn.preprocessing import OneHotEncoder,OrdinalEncoder\n",
    "from sklearn.compose import ColumnTransformer"
   ]
  },
  {
   "cell_type": "code",
   "execution_count": 91,
   "metadata": {
    "id": "SmgdjQrM0wjp"
   },
   "outputs": [],
   "source": [
    "num_pipeline = Pipeline(steps=[\n",
    "                       (\"feature_splitter\", FeatureSplitter()),\n",
    "                       (\"feature_calculator\", FeatureCalculator()),\n",
    "                       (\"simple_imputer\", SimpleImputer(strategy=\"median\")),\n",
    "                       (\"scalar\", StandardScaler())\n",
    "])"
   ]
  },
  {
   "cell_type": "code",
   "execution_count": null,
   "metadata": {},
   "outputs": [],
   "source": []
  },
  {
   "cell_type": "code",
   "execution_count": 92,
   "metadata": {
    "id": "HlUvLy3l95XD"
   },
   "outputs": [],
   "source": [
    "cat_ohe_pipeline = Pipeline(steps=[\n",
    "                                   (\"One_Hot_Encoder\",OneHotEncoder(drop=\"first\",\n",
    "                                        sparse=False)),\n",
    "                                   (\"simple_imputer\", SimpleImputer(\n",
    "                                       strategy=\"most_frequent\")),\n",
    "                                   (\"scalar\", StandardScaler(with_mean=False))\n",
    "])"
   ]
  },
  {
   "cell_type": "code",
   "execution_count": 93,
   "metadata": {
    "id": "G4wsjcivRNRE"
   },
   "outputs": [],
   "source": [
    "cat_ordinal_pipeline = Pipeline(steps=[\n",
    "                                   (\"simple_imputer\", SimpleImputer(\n",
    "                                       strategy=\"most_frequent\")),\n",
    "                                   (\"Ordinal_encoder\",OrdinalEncoder()),\n",
    "                                   (\"scalar\", StandardScaler(with_mean=False))\n",
    "])"
   ]
  },
  {
   "cell_type": "code",
   "execution_count": 94,
   "metadata": {
    "id": "lYifwEUJSDSI"
   },
   "outputs": [],
   "source": [
    "preprocessing = ColumnTransformer([\n",
    "                ('num_pipeline', num_pipeline, num_feat),\n",
    "                ('cat_ohe_pipeline', cat_ohe_pipeline, cat_feat[:-1]),\n",
    "                ('cat_ordinal_pipeline', cat_ordinal_pipeline, [cat_feat[-1],])\n",
    "            ],)"
   ]
  },
  {
   "cell_type": "code",
   "execution_count": 95,
   "metadata": {},
   "outputs": [
    {
     "data": {
      "text/plain": [
       "['Airline', 'Source', 'Destination']"
      ]
     },
     "execution_count": 95,
     "metadata": {},
     "output_type": "execute_result"
    }
   ],
   "source": [
    "[feat for feat in cat_feat if feat not in [\"Total_Stops\"]]"
   ]
  },
  {
   "cell_type": "code",
   "execution_count": null,
   "metadata": {},
   "outputs": [],
   "source": []
  },
  {
   "cell_type": "code",
   "execution_count": 96,
   "metadata": {},
   "outputs": [],
   "source": [
    "X_train_new = X_train.drop([\"Route\",\"Additional_Info\"],axis=1)\n",
    "X_test_new =  X_test.drop([\"Route\",\"Additional_Info\"],axis=1)"
   ]
  },
  {
   "cell_type": "code",
   "execution_count": 100,
   "metadata": {},
   "outputs": [],
   "source": [
    "X_train_arr = np.array(X_train_new)\n",
    "X_test_arr = np.array(X_test_new)"
   ]
  },
  {
   "cell_type": "code",
   "execution_count": 101,
   "metadata": {
    "id": "t-TADAjySl4o"
   },
   "outputs": [
    {
     "ename": "ValueError",
     "evalue": "Specifying the columns using strings is only supported for pandas DataFrames",
     "output_type": "error",
     "traceback": [
      "\u001b[1;31m---------------------------------------------------------------------------\u001b[0m",
      "\u001b[1;31mAttributeError\u001b[0m                            Traceback (most recent call last)",
      "File \u001b[1;32m~\\anaconda3\\lib\\site-packages\\sklearn\\utils\\__init__.py:409\u001b[0m, in \u001b[0;36m_get_column_indices\u001b[1;34m(X, key)\u001b[0m\n\u001b[0;32m    408\u001b[0m \u001b[38;5;28;01mtry\u001b[39;00m:\n\u001b[1;32m--> 409\u001b[0m     all_columns \u001b[38;5;241m=\u001b[39m \u001b[43mX\u001b[49m\u001b[38;5;241;43m.\u001b[39;49m\u001b[43mcolumns\u001b[49m\n\u001b[0;32m    410\u001b[0m \u001b[38;5;28;01mexcept\u001b[39;00m \u001b[38;5;167;01mAttributeError\u001b[39;00m:\n",
      "\u001b[1;31mAttributeError\u001b[0m: 'numpy.ndarray' object has no attribute 'columns'",
      "\nDuring handling of the above exception, another exception occurred:\n",
      "\u001b[1;31mValueError\u001b[0m                                Traceback (most recent call last)",
      "Input \u001b[1;32mIn [101]\u001b[0m, in \u001b[0;36m<cell line: 1>\u001b[1;34m()\u001b[0m\n\u001b[1;32m----> 1\u001b[0m X_train_trf \u001b[38;5;241m=\u001b[39m \u001b[43mpreprocessing\u001b[49m\u001b[38;5;241;43m.\u001b[39;49m\u001b[43mfit_transform\u001b[49m\u001b[43m(\u001b[49m\u001b[43mX_train_arr\u001b[49m\u001b[43m)\u001b[49m\n\u001b[0;32m      2\u001b[0m X_test_trf \u001b[38;5;241m=\u001b[39m preprocessing\u001b[38;5;241m.\u001b[39mtransform(X_test_arr)\n",
      "File \u001b[1;32m~\\anaconda3\\lib\\site-packages\\sklearn\\compose\\_column_transformer.py:672\u001b[0m, in \u001b[0;36mColumnTransformer.fit_transform\u001b[1;34m(self, X, y)\u001b[0m\n\u001b[0;32m    670\u001b[0m \u001b[38;5;28mself\u001b[39m\u001b[38;5;241m.\u001b[39m_check_n_features(X, reset\u001b[38;5;241m=\u001b[39m\u001b[38;5;28;01mTrue\u001b[39;00m)\n\u001b[0;32m    671\u001b[0m \u001b[38;5;28mself\u001b[39m\u001b[38;5;241m.\u001b[39m_validate_transformers()\n\u001b[1;32m--> 672\u001b[0m \u001b[38;5;28;43mself\u001b[39;49m\u001b[38;5;241;43m.\u001b[39;49m\u001b[43m_validate_column_callables\u001b[49m\u001b[43m(\u001b[49m\u001b[43mX\u001b[49m\u001b[43m)\u001b[49m\n\u001b[0;32m    673\u001b[0m \u001b[38;5;28mself\u001b[39m\u001b[38;5;241m.\u001b[39m_validate_remainder(X)\n\u001b[0;32m    675\u001b[0m result \u001b[38;5;241m=\u001b[39m \u001b[38;5;28mself\u001b[39m\u001b[38;5;241m.\u001b[39m_fit_transform(X, y, _fit_transform_one)\n",
      "File \u001b[1;32m~\\anaconda3\\lib\\site-packages\\sklearn\\compose\\_column_transformer.py:352\u001b[0m, in \u001b[0;36mColumnTransformer._validate_column_callables\u001b[1;34m(self, X)\u001b[0m\n\u001b[0;32m    350\u001b[0m         columns \u001b[38;5;241m=\u001b[39m columns(X)\n\u001b[0;32m    351\u001b[0m     all_columns\u001b[38;5;241m.\u001b[39mappend(columns)\n\u001b[1;32m--> 352\u001b[0m     transformer_to_input_indices[name] \u001b[38;5;241m=\u001b[39m \u001b[43m_get_column_indices\u001b[49m\u001b[43m(\u001b[49m\u001b[43mX\u001b[49m\u001b[43m,\u001b[49m\u001b[43m \u001b[49m\u001b[43mcolumns\u001b[49m\u001b[43m)\u001b[49m\n\u001b[0;32m    354\u001b[0m \u001b[38;5;28mself\u001b[39m\u001b[38;5;241m.\u001b[39m_columns \u001b[38;5;241m=\u001b[39m all_columns\n\u001b[0;32m    355\u001b[0m \u001b[38;5;28mself\u001b[39m\u001b[38;5;241m.\u001b[39m_transformer_to_input_indices \u001b[38;5;241m=\u001b[39m transformer_to_input_indices\n",
      "File \u001b[1;32m~\\anaconda3\\lib\\site-packages\\sklearn\\utils\\__init__.py:411\u001b[0m, in \u001b[0;36m_get_column_indices\u001b[1;34m(X, key)\u001b[0m\n\u001b[0;32m    409\u001b[0m     all_columns \u001b[38;5;241m=\u001b[39m X\u001b[38;5;241m.\u001b[39mcolumns\n\u001b[0;32m    410\u001b[0m \u001b[38;5;28;01mexcept\u001b[39;00m \u001b[38;5;167;01mAttributeError\u001b[39;00m:\n\u001b[1;32m--> 411\u001b[0m     \u001b[38;5;28;01mraise\u001b[39;00m \u001b[38;5;167;01mValueError\u001b[39;00m(\n\u001b[0;32m    412\u001b[0m         \u001b[38;5;124m\"\u001b[39m\u001b[38;5;124mSpecifying the columns using strings is only \u001b[39m\u001b[38;5;124m\"\u001b[39m\n\u001b[0;32m    413\u001b[0m         \u001b[38;5;124m\"\u001b[39m\u001b[38;5;124msupported for pandas DataFrames\u001b[39m\u001b[38;5;124m\"\u001b[39m\n\u001b[0;32m    414\u001b[0m     )\n\u001b[0;32m    415\u001b[0m \u001b[38;5;28;01mif\u001b[39;00m \u001b[38;5;28misinstance\u001b[39m(key, \u001b[38;5;28mstr\u001b[39m):\n\u001b[0;32m    416\u001b[0m     columns \u001b[38;5;241m=\u001b[39m [key]\n",
      "\u001b[1;31mValueError\u001b[0m: Specifying the columns using strings is only supported for pandas DataFrames"
     ]
    }
   ],
   "source": [
    "X_train_trf = preprocessing.fit_transform(X_train_arr)\n",
    "X_test_trf = preprocessing.transform(X_test_arr)"
   ]
  },
  {
   "cell_type": "code",
   "execution_count": 115,
   "metadata": {
    "id": "TU3iAPVhCxr4"
   },
   "outputs": [
    {
     "data": {
      "text/plain": [
       "(8368, 27)"
      ]
     },
     "execution_count": 115,
     "metadata": {},
     "output_type": "execute_result"
    }
   ],
   "source": [
    "X_train_trf.shape"
   ]
  },
  {
   "cell_type": "markdown",
   "metadata": {
    "id": "aJZGGHXbSMvF"
   },
   "source": [
    "3. Model Training\n",
    " - Random Forest\n",
    " - SVM\n",
    " - LinearRegression\n",
    " - XGBoost\n",
    " - Voting Regressor"
   ]
  },
  {
   "cell_type": "code",
   "execution_count": 93,
   "metadata": {},
   "outputs": [
    {
     "name": "stdout",
     "output_type": "stream",
     "text": [
      "Requirement already satisfied: xgboost in c:\\users\\vyshnavi saranya\\anaconda3\\lib\\site-packages (1.6.1)\n",
      "Requirement already satisfied: scipy in c:\\users\\vyshnavi saranya\\anaconda3\\lib\\site-packages (from xgboost) (1.7.3)\n",
      "Requirement already satisfied: numpy in c:\\users\\vyshnavi saranya\\anaconda3\\lib\\site-packages (from xgboost) (1.21.5)\n"
     ]
    }
   ],
   "source": [
    "!pip3 install xgboost"
   ]
  },
  {
   "cell_type": "code",
   "execution_count": 94,
   "metadata": {
    "id": "JS_a2lNJSPsC"
   },
   "outputs": [],
   "source": [
    "from sklearn.ensemble import RandomForestRegressor\n",
    "from sklearn.ensemble import VotingRegressor\n",
    "from sklearn.svm import SVR\n",
    "from sklearn.linear_model import LinearRegression\n",
    "from sklearn.linear_model import Lasso\n",
    "from xgboost import XGBRegressor"
   ]
  },
  {
   "cell_type": "code",
   "execution_count": 95,
   "metadata": {
    "id": "Q7KcavrWTAJU"
   },
   "outputs": [],
   "source": [
    "rand_forest = RandomForestRegressor(n_jobs=-1,random_state=42)\n",
    "#svr = SVR()\n",
    "linear = LinearRegression()\n",
    "lasso_reg = Lasso(alpha=0.1)\n",
    "xg = XGBRegressor(max_depth=3, learning_rate=0.1, n_estimators=100, objective=\"reg:linear\", booster='gbtree', \n",
    "                  n_jobs=-1,random_state=42)"
   ]
  },
  {
   "cell_type": "code",
   "execution_count": 96,
   "metadata": {
    "id": "ex3rl8_TTz9u"
   },
   "outputs": [],
   "source": [
    "models = [rand_forest,linear,xg,lasso_reg]\n",
    "estimators = [(\"rand_forest\",rand_forest), (\"linear\",linear), (\"xg\",xg), (\"lasso_reg\",lasso_reg)]"
   ]
  },
  {
   "cell_type": "code",
   "execution_count": 109,
   "metadata": {
    "id": "AUmvmuaAn5Zu"
   },
   "outputs": [],
   "source": [
    "labels = {rand_forest : \"rand_forest\", linear : \"linear\", \n",
    "          xg : \"xg_boost\", lasso_reg : \"lasso_reg\"}"
   ]
  },
  {
   "cell_type": "code",
   "execution_count": 110,
   "metadata": {
    "id": "c6OEHLWJWuLi"
   },
   "outputs": [],
   "source": [
    "voting = VotingRegressor(estimators=estimators,weights=[3,1,3,1],n_jobs=-1)"
   ]
  },
  {
   "cell_type": "code",
   "execution_count": 111,
   "metadata": {
    "id": "p9gbZdleTkDm"
   },
   "outputs": [],
   "source": [
    "from sklearn.model_selection import cross_val_score"
   ]
  },
  {
   "cell_type": "code",
   "execution_count": 118,
   "metadata": {
    "colab": {
     "base_uri": "https://localhost:8080/"
    },
    "id": "uxS_WzhtTwRz",
    "outputId": "c0b8c78d-a220-445c-b856-2883ac593430"
   },
   "outputs": [
    {
     "name": "stdout",
     "output_type": "stream",
     "text": [
      "rand_forest  -  0.8045142228771877\n",
      "linear  -  0.5808373491494077\n",
      "xg_boost  -  0.7703113743029332\n",
      "lasso_reg  -  0.5808391315074383\n"
     ]
    }
   ],
   "source": [
    "validation_scores = dict()\n",
    "for model in models:\n",
    "    scores = cross_val_score(model,X_train_trf,y_train,scoring=\"r2\",cv=10,n_jobs=-1)\n",
    "    validation_scores[model] = scores.mean()\n",
    "    print(labels[model], \" - \", scores.mean())"
   ]
  },
  {
   "cell_type": "code",
   "execution_count": 114,
   "metadata": {
    "colab": {
     "base_uri": "https://localhost:8080/"
    },
    "id": "huDUbN6fpj5N",
    "outputId": "a097d191-1931-455f-ee3f-62a9cb037357"
   },
   "outputs": [],
   "source": [
    "model_coll = models + [voting,]"
   ]
  },
  {
   "cell_type": "code",
   "execution_count": 119,
   "metadata": {
    "id": "xJyu8wYku-m3"
   },
   "outputs": [],
   "source": [
    "scores_voting = cross_val_score(voting,X_train_trf,y_train,scoring=\"r2\",cv=10,\n",
    "                                n_jobs=-1)\n",
    "validation_scores[voting] = scores_voting.mean()"
   ]
  },
  {
   "cell_type": "code",
   "execution_count": 120,
   "metadata": {
    "colab": {
     "base_uri": "https://localhost:8080/"
    },
    "id": "g3bDHGaQu7ZH",
    "outputId": "ab8844f2-bb08-4142-a584-40e49cbbc4dc"
   },
   "outputs": [
    {
     "name": "stdout",
     "output_type": "stream",
     "text": [
      "voting  -  0.7945191309681462\n"
     ]
    }
   ],
   "source": [
    "labels[voting] = \"voting\"\n",
    "print(labels[voting], \" - \", scores_voting.mean())"
   ]
  },
  {
   "cell_type": "code",
   "execution_count": null,
   "metadata": {},
   "outputs": [],
   "source": []
  },
  {
   "cell_type": "code",
   "execution_count": 121,
   "metadata": {
    "colab": {
     "base_uri": "https://localhost:8080/"
    },
    "id": "9hcrH-5PXqHg",
    "outputId": "89712ac4-2c7e-4b9d-9939-9d310b2a7ac0"
   },
   "outputs": [
    {
     "name": "stdout",
     "output_type": "stream",
     "text": [
      "rand_forest  -  0.7832131218447175\n",
      "linear  -  0.5638571066951419\n",
      "[13:42:38] WARNING: C:/Users/Administrator/workspace/xgboost-win64_release_1.6.0/src/objective/regression_obj.cu:203: reg:linear is now deprecated in favor of reg:squarederror.\n",
      "xg_boost  -  0.7555118333581717\n",
      "lasso_reg  -  0.563851813815563\n",
      "voting  -  0.7723475585557422\n"
     ]
    }
   ],
   "source": [
    "test_scores = dict()\n",
    "# test accuracy\n",
    "from sklearn.metrics import r2_score\n",
    "for model in model_coll:\n",
    "    model.fit(X_train_trf,y_train)\n",
    "    y_pred = model.predict(X_test_trf)\n",
    "    r2 = r2_score(y_test,y_pred)\n",
    "    test_scores[model] = r2\n",
    "    print(labels[model], \" - \", r2)"
   ]
  },
  {
   "cell_type": "code",
   "execution_count": 122,
   "metadata": {
    "colab": {
     "base_uri": "https://localhost:8080/"
    },
    "id": "rVXmQjSFY4j2",
    "outputId": "7bcffbc4-7d08-40e1-ed5a-ef4891276439"
   },
   "outputs": [
    {
     "name": "stdout",
     "output_type": "stream",
     "text": [
      "rand_forest  -  0.021301101032470182\n",
      "linear  -  0.01698024245426577\n",
      "xg_boost  -  0.014799540944761436\n",
      "lasso_reg  -  0.016987317691875226\n",
      "voting  -  0.022171572412403973\n"
     ]
    }
   ],
   "source": [
    "diff_scores = dict()\n",
    "for key in validation_scores:\n",
    "    diff_scores[key] = validation_scores[key] - test_scores[key]\n",
    "    print(labels[key] , \" - \" , diff_scores[key])"
   ]
  },
  {
   "cell_type": "markdown",
   "metadata": {
    "id": "w_jI5-0A2jHD"
   },
   "source": [
    "Grid Search CV"
   ]
  },
  {
   "cell_type": "code",
   "execution_count": 126,
   "metadata": {
    "id": "rM-NqSwp3SwY"
   },
   "outputs": [],
   "source": [
    "from sklearn.model_selection import GridSearchCV"
   ]
  },
  {
   "cell_type": "code",
   "execution_count": 127,
   "metadata": {
    "id": "L1ci__KtaxkB"
   },
   "outputs": [],
   "source": [
    "# Random Forest\n",
    "#RandomForestRegressor()"
   ]
  },
  {
   "cell_type": "code",
   "execution_count": 128,
   "metadata": {
    "id": "XlYfs-gM0xQ3"
   },
   "outputs": [],
   "source": [
    "tree_depth_list = [estimator.tree_.max_depth for estimator in rand_forest.estimators_]"
   ]
  },
  {
   "cell_type": "code",
   "execution_count": 129,
   "metadata": {
    "colab": {
     "base_uri": "https://localhost:8080/"
    },
    "id": "JW9VKXaN1AwD",
    "outputId": "14f2f4db-9b39-4329-c474-4523743e4465"
   },
   "outputs": [
    {
     "name": "stdout",
     "output_type": "stream",
     "text": [
      "Max. tree depth -  32\n",
      "Min. tree depth -  24\n"
     ]
    }
   ],
   "source": [
    "min_tree_depth = min(tree_depth_list)\n",
    "max_tree_depth = max(tree_depth_list)\n",
    "print(\"Max. tree depth - \", max_tree_depth)\n",
    "print(\"Min. tree depth - \", min_tree_depth)"
   ]
  },
  {
   "cell_type": "code",
   "execution_count": null,
   "metadata": {
    "id": "Z2UmXjC31ApI"
   },
   "outputs": [],
   "source": []
  },
  {
   "cell_type": "code",
   "execution_count": 130,
   "metadata": {
    "id": "GKuagO7uk1hN"
   },
   "outputs": [],
   "source": [
    "\"\"\"\n",
    "min_samples_split=2, \n",
    "min_samples_leaf=1, \n",
    "min_weight_fraction_leaf=0, \n",
    "max_features=\"auto\", \n",
    "max_leaf_nodes=None, \n",
    "min_impurity_decrease=0, \n",
    "bootstrap=True, \n",
    "ccp_alpha=0, \n",
    "\"\"\"\n",
    "# \"oob_score\" : [True,False]\n",
    "# \n",
    "\n",
    "param_grid_rf = {\"n_estimators\" : [50,100,150,200],\n",
    "                 \"max_depth\" : [8,16,24,32],\n",
    "                 \"criterion\" : [\"squared_error\", \"absolute_error\", \"poisson\"],\n",
    "              }"
   ]
  },
  {
   "cell_type": "code",
   "execution_count": 131,
   "metadata": {
    "id": "NkQY37fAk6RZ"
   },
   "outputs": [],
   "source": [
    "grid = GridSearchCV(estimator=rand_forest,param_grid=param_grid_rf,\n",
    "                    scoring=\"r2\",n_jobs=-1,cv=5,verbose=2)"
   ]
  },
  {
   "cell_type": "code",
   "execution_count": null,
   "metadata": {
    "id": "EniMw0mo6x0p"
   },
   "outputs": [],
   "source": [
    "grid.fit(X_train_trf,y_train)"
   ]
  },
  {
   "cell_type": "code",
   "execution_count": null,
   "metadata": {
    "colab": {
     "base_uri": "https://localhost:8080/",
     "height": 340
    },
    "id": "AE8sKsBo4ypN",
    "outputId": "f8473892-5e76-451c-d029-baf71b40edad"
   },
   "outputs": [
    {
     "name": "stdout",
     "output_type": "stream",
     "text": [
      "Fitting 5 folds for each of 48 candidates, totalling 240 fits\n"
     ]
    }
   ],
   "source": [
    "grid.fit(X_train_trf,y_train)"
   ]
  },
  {
   "cell_type": "code",
   "execution_count": 132,
   "metadata": {},
   "outputs": [],
   "source": [
    "duration = list(data_test[\"Duration\"].to_numpy())\n",
    "\n",
    "for i in range(len(duration)):\n",
    "    if len(duration[i].split()) != 2:    # Check if duration contains only hour or mins\n",
    "        if \"h\" in duration[i]:\n",
    "            duration[i] = duration[i].strip() + \" 0m\"   # Adds 0 minute\n",
    "        else:\n",
    "            duration[i] = \"0h \" + duration[i]           # Adds 0 hour\n",
    "\n",
    "duration_hours = []\n",
    "duration_mins = []\n",
    "for i in range(len(duration)):\n",
    "    duration_hours.append(int(duration[i].split(sep = \"h\")[0]))    # Extract hours from duration\n",
    "    duration_mins.append(int(duration[i].split(sep = \"m\")[0].split()[-1]))   # Extracts only minutes from duration"
   ]
  },
  {
   "cell_type": "code",
   "execution_count": null,
   "metadata": {},
   "outputs": [],
   "source": []
  }
 ],
 "metadata": {
  "colab": {
   "authorship_tag": "ABX9TyNPdaoZca4KTe0E6z7d6zDz",
   "include_colab_link": true,
   "name": "internship_1.ipynb",
   "provenance": []
  },
  "kernelspec": {
   "display_name": "Python 3 (ipykernel)",
   "language": "python",
   "name": "python3"
  },
  "language_info": {
   "codemirror_mode": {
    "name": "ipython",
    "version": 3
   },
   "file_extension": ".py",
   "mimetype": "text/x-python",
   "name": "python",
   "nbconvert_exporter": "python",
   "pygments_lexer": "ipython3",
   "version": "3.9.12"
  }
 },
 "nbformat": 4,
 "nbformat_minor": 1
}
